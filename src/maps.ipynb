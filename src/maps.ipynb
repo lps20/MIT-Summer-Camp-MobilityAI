{
 "cells": [
  {
   "cell_type": "code",
   "execution_count": 1,
   "metadata": {},
   "outputs": [],
   "source": [
    "import matplotlib.pyplot as plt\n",
    "import pandas as pd\n",
    "import numpy as np\n",
    "import json\n",
    "import matplotlib.pyplot as plt\n",
    "import geopandas as gpd\n",
    "from shapely.geometry import Point"
   ]
  },
  {
   "cell_type": "code",
   "execution_count": 2,
   "metadata": {},
   "outputs": [],
   "source": [
    "CBG = gpd.read_file('../data/PA/Census_Block_Groups_2010.geojson')"
   ]
  },
  {
   "cell_type": "code",
   "execution_count": 3,
   "metadata": {},
   "outputs": [
    {
     "data": {
      "text/plain": [
       "Index(['OBJECTID', 'STATEFP10', 'COUNTYFP10', 'TRACTCE10', 'BLKGRPCE10',\n",
       "       'GEOID10', 'NAMELSAD10', 'MTFCC10', 'FUNCSTAT10', 'ALAND10', 'AWATER10',\n",
       "       'INTPTLAT10', 'INTPTLON10', 'Shape__Area', 'Shape__Length', 'geometry'],\n",
       "      dtype='object')"
      ]
     },
     "execution_count": 3,
     "metadata": {},
     "output_type": "execute_result"
    }
   ],
   "source": [
    "CBG.columns\n"
   ]
  },
  {
   "cell_type": "code",
   "execution_count": 33,
   "metadata": {},
   "outputs": [
    {
     "data": {
      "text/html": [
       "<div>\n",
       "<style scoped>\n",
       "    .dataframe tbody tr th:only-of-type {\n",
       "        vertical-align: middle;\n",
       "    }\n",
       "\n",
       "    .dataframe tbody tr th {\n",
       "        vertical-align: top;\n",
       "    }\n",
       "\n",
       "    .dataframe thead th {\n",
       "        text-align: right;\n",
       "    }\n",
       "</style>\n",
       "<table border=\"1\" class=\"dataframe\">\n",
       "  <thead>\n",
       "    <tr style=\"text-align: right;\">\n",
       "      <th></th>\n",
       "      <th>OBJECTID</th>\n",
       "      <th>STATEFP10</th>\n",
       "      <th>COUNTYFP10</th>\n",
       "      <th>TRACTCE10</th>\n",
       "      <th>BLKGRPCE10</th>\n",
       "      <th>GEOID10</th>\n",
       "      <th>NAMELSAD10</th>\n",
       "      <th>MTFCC10</th>\n",
       "      <th>FUNCSTAT10</th>\n",
       "      <th>ALAND10</th>\n",
       "      <th>AWATER10</th>\n",
       "      <th>INTPTLAT10</th>\n",
       "      <th>INTPTLON10</th>\n",
       "      <th>Shape__Area</th>\n",
       "      <th>Shape__Length</th>\n",
       "      <th>geometry</th>\n",
       "    </tr>\n",
       "  </thead>\n",
       "  <tbody>\n",
       "    <tr>\n",
       "      <th>0</th>\n",
       "      <td>1</td>\n",
       "      <td>42</td>\n",
       "      <td>101</td>\n",
       "      <td>010800</td>\n",
       "      <td>1</td>\n",
       "      <td>421010108001</td>\n",
       "      <td>Block Group 1</td>\n",
       "      <td>G5030</td>\n",
       "      <td>S</td>\n",
       "      <td>161887</td>\n",
       "      <td>0</td>\n",
       "      <td>+39.9687580</td>\n",
       "      <td>-075.1997251</td>\n",
       "      <td>1.742508e+06</td>\n",
       "      <td>8200.327170</td>\n",
       "      <td>POLYGON ((-75.19851 39.96945, -75.19744 39.969...</td>\n",
       "    </tr>\n",
       "    <tr>\n",
       "      <th>1</th>\n",
       "      <td>2</td>\n",
       "      <td>42</td>\n",
       "      <td>101</td>\n",
       "      <td>010800</td>\n",
       "      <td>2</td>\n",
       "      <td>421010108002</td>\n",
       "      <td>Block Group 2</td>\n",
       "      <td>G5030</td>\n",
       "      <td>S</td>\n",
       "      <td>103778</td>\n",
       "      <td>0</td>\n",
       "      <td>+39.9665475</td>\n",
       "      <td>-075.2004455</td>\n",
       "      <td>1.117026e+06</td>\n",
       "      <td>4364.980144</td>\n",
       "      <td>POLYGON ((-75.19783 39.96571, -75.20006 39.965...</td>\n",
       "    </tr>\n",
       "    <tr>\n",
       "      <th>2</th>\n",
       "      <td>3</td>\n",
       "      <td>42</td>\n",
       "      <td>101</td>\n",
       "      <td>010900</td>\n",
       "      <td>2</td>\n",
       "      <td>421010109002</td>\n",
       "      <td>Block Group 2</td>\n",
       "      <td>G5030</td>\n",
       "      <td>S</td>\n",
       "      <td>43724</td>\n",
       "      <td>0</td>\n",
       "      <td>+39.9642929</td>\n",
       "      <td>-075.1896435</td>\n",
       "      <td>4.706347e+05</td>\n",
       "      <td>3048.109084</td>\n",
       "      <td>POLYGON ((-75.18766 39.96450, -75.18755 39.963...</td>\n",
       "    </tr>\n",
       "    <tr>\n",
       "      <th>3</th>\n",
       "      <td>4</td>\n",
       "      <td>42</td>\n",
       "      <td>101</td>\n",
       "      <td>011000</td>\n",
       "      <td>2</td>\n",
       "      <td>421010110002</td>\n",
       "      <td>Block Group 2</td>\n",
       "      <td>G5030</td>\n",
       "      <td>S</td>\n",
       "      <td>108966</td>\n",
       "      <td>0</td>\n",
       "      <td>+39.9753585</td>\n",
       "      <td>-075.2113476</td>\n",
       "      <td>1.172871e+06</td>\n",
       "      <td>5169.004282</td>\n",
       "      <td>POLYGON ((-75.20984 39.97351, -75.21221 39.973...</td>\n",
       "    </tr>\n",
       "    <tr>\n",
       "      <th>4</th>\n",
       "      <td>5</td>\n",
       "      <td>42</td>\n",
       "      <td>101</td>\n",
       "      <td>011000</td>\n",
       "      <td>1</td>\n",
       "      <td>421010110001</td>\n",
       "      <td>Block Group 1</td>\n",
       "      <td>G5030</td>\n",
       "      <td>S</td>\n",
       "      <td>142244</td>\n",
       "      <td>0</td>\n",
       "      <td>+39.9724202</td>\n",
       "      <td>-075.2051689</td>\n",
       "      <td>1.531076e+06</td>\n",
       "      <td>10476.574129</td>\n",
       "      <td>POLYGON ((-75.19855 39.97330, -75.19854 39.973...</td>\n",
       "    </tr>\n",
       "  </tbody>\n",
       "</table>\n",
       "</div>"
      ],
      "text/plain": [
       "   OBJECTID STATEFP10 COUNTYFP10 TRACTCE10 BLKGRPCE10       GEOID10  \\\n",
       "0         1        42        101    010800          1  421010108001   \n",
       "1         2        42        101    010800          2  421010108002   \n",
       "2         3        42        101    010900          2  421010109002   \n",
       "3         4        42        101    011000          2  421010110002   \n",
       "4         5        42        101    011000          1  421010110001   \n",
       "\n",
       "      NAMELSAD10 MTFCC10 FUNCSTAT10  ALAND10  AWATER10   INTPTLAT10  \\\n",
       "0  Block Group 1   G5030          S   161887         0  +39.9687580   \n",
       "1  Block Group 2   G5030          S   103778         0  +39.9665475   \n",
       "2  Block Group 2   G5030          S    43724         0  +39.9642929   \n",
       "3  Block Group 2   G5030          S   108966         0  +39.9753585   \n",
       "4  Block Group 1   G5030          S   142244         0  +39.9724202   \n",
       "\n",
       "     INTPTLON10   Shape__Area  Shape__Length  \\\n",
       "0  -075.1997251  1.742508e+06    8200.327170   \n",
       "1  -075.2004455  1.117026e+06    4364.980144   \n",
       "2  -075.1896435  4.706347e+05    3048.109084   \n",
       "3  -075.2113476  1.172871e+06    5169.004282   \n",
       "4  -075.2051689  1.531076e+06   10476.574129   \n",
       "\n",
       "                                            geometry  \n",
       "0  POLYGON ((-75.19851 39.96945, -75.19744 39.969...  \n",
       "1  POLYGON ((-75.19783 39.96571, -75.20006 39.965...  \n",
       "2  POLYGON ((-75.18766 39.96450, -75.18755 39.963...  \n",
       "3  POLYGON ((-75.20984 39.97351, -75.21221 39.973...  \n",
       "4  POLYGON ((-75.19855 39.97330, -75.19854 39.973...  "
      ]
     },
     "execution_count": 33,
     "metadata": {},
     "output_type": "execute_result"
    }
   ],
   "source": [
    "CBG.head()"
   ]
  },
  {
   "cell_type": "code",
   "execution_count": 26,
   "metadata": {},
   "outputs": [],
   "source": [
    "# 创建一个空字典来存储相邻区域信息\n",
    "adjacent_regions = {}\n",
    "\n",
    "# 遍历每个多边形\n",
    "for index, row in CBG.iterrows():\n",
    "    # 获取当前多边形的ID和几何图形\n",
    "    polygon_id = row['OBJECTID']\n",
    "    polygon = row['geometry']\n",
    "    \n",
    "    # 创建一个空列表来存储相邻区域的ID\n",
    "    adjacent_ids = []\n",
    "    \n",
    "    # 遍历所有其他多边形\n",
    "    for other_index, other_row in CBG.iterrows():\n",
    "        # 排除与自身比较的情况\n",
    "        if other_index != index:\n",
    "            # 获取其他多边形的ID和几何图形\n",
    "            other_polygon_id = other_row['OBJECTID']\n",
    "            other_polygon = other_row['geometry']\n",
    "            \n",
    "            # 检查当前多边形是否与其他多边形相邻\n",
    "            if polygon.touches(other_polygon) or polygon.intersects(other_polygon):\n",
    "                adjacent_ids.append(other_polygon_id)\n",
    "    \n",
    "    # 将相邻区域的ID列表添加到字典中\n",
    "    adjacent_regions[polygon_id] = adjacent_ids\n"
   ]
  },
  {
   "cell_type": "code",
   "execution_count": 27,
   "metadata": {},
   "outputs": [
    {
     "name": "stdout",
     "output_type": "stream",
     "text": [
      "[[0. 1. 0. ... 0. 0. 0.]\n",
      " [1. 0. 0. ... 0. 0. 0.]\n",
      " [0. 0. 0. ... 0. 0. 0.]\n",
      " ...\n",
      " [0. 0. 0. ... 0. 0. 0.]\n",
      " [0. 0. 0. ... 0. 0. 1.]\n",
      " [0. 0. 0. ... 0. 1. 0.]]\n"
     ]
    }
   ],
   "source": [
    "# calculate the adjacency matrix\n",
    "adjacency_matrix = np.zeros((len(CBG), len(CBG)))\n",
    "# 遍历每个多边形及其相邻多边形列表\n",
    "for polygon_id, adjacent_ids in adjacent_regions.items():\n",
    "    # 获取当前多边形在邻接矩阵中的索引\n",
    "    i = polygon_id - 1\n",
    "    \n",
    "    # 将相邻多边形在邻接矩阵中的对应位置设置为1\n",
    "    for adjacent_id in adjacent_ids:\n",
    "        j = adjacent_id - 1\n",
    "        adjacency_matrix[i, j] = 1\n",
    "\n",
    "# 打印邻接矩阵\n",
    "print(adjacency_matrix)"
   ]
  },
  {
   "cell_type": "code",
   "execution_count": 7,
   "metadata": {},
   "outputs": [
    {
     "data": {
      "text/plain": [
       "(1336, 1336)"
      ]
     },
     "execution_count": 7,
     "metadata": {},
     "output_type": "execute_result"
    }
   ],
   "source": [
    "adjacency_matrix.shape"
   ]
  },
  {
   "cell_type": "code",
   "execution_count": 3,
   "metadata": {},
   "outputs": [],
   "source": [
    "from math import radians, sin, cos, sqrt, atan2\n",
    "\n",
    "# DEFINE THE RADIUS OF THE EARTH IN KM\n",
    "R = 6371.0\n",
    "\n",
    "# Calculate the distance between two points\n",
    "def dist(point1, point2):\n",
    "    # Convert latitude and longitude to radians\n",
    "    lat1_rad = float(point1['INTPTLAT10'])\n",
    "    lon1_rad = float(point1['INTPTLON10'])\n",
    "    lat2_rad = float(point2['INTPTLAT10'])\n",
    "    lon2_rad = float(point2['INTPTLON10'])\n",
    "    \n",
    "    # Calculate the difference between the two points\n",
    "    dlat = lat2_rad - lat1_rad\n",
    "    dlon = lon2_rad - lon1_rad\n",
    "    \n",
    "    # Use the Haversine formula to calculate the distance\n",
    "    a = sin(dlat / 2) ** 2 + cos(lat1_rad) * cos(lat2_rad) * sin(dlon / 2) ** 2\n",
    "    c = 2 * atan2(sqrt(a), sqrt(1 - a))\n",
    "    distance = R * c\n",
    "    \n",
    "    return distance"
   ]
  },
  {
   "cell_type": "code",
   "execution_count": 28,
   "metadata": {},
   "outputs": [
    {
     "name": "stdout",
     "output_type": "stream",
     "text": [
      "[[ 0.         14.38850595  0.         ...  0.          0.\n",
      "   0.        ]\n",
      " [14.38850595  0.          0.         ...  0.          0.\n",
      "   0.        ]\n",
      " [ 0.          0.          0.         ...  0.          0.\n",
      "   0.        ]\n",
      " ...\n",
      " [ 0.          0.          0.         ...  0.          0.\n",
      "   0.        ]\n",
      " [ 0.          0.          0.         ...  0.          0.\n",
      "  21.91867011]\n",
      " [ 0.          0.          0.         ...  0.         21.91867011\n",
      "   0.        ]]\n"
     ]
    }
   ],
   "source": [
    "# calculate the distance matrix\n",
    "distance_matrix = np.zeros((len(CBG), len(CBG)))\n",
    "# go through adjacent regions\n",
    "for i in range(len(CBG)):\n",
    "    for j in range(len(CBG)):\n",
    "        # only calculate the distance if the regions are adjacent\n",
    "        if adjacency_matrix[i, j] == 1:\n",
    "            distance_matrix[i, j] = dist(CBG.iloc[i], CBG.iloc[j])\n",
    "# print the distance matrix\n",
    "print(distance_matrix)"
   ]
  },
  {
   "cell_type": "code",
   "execution_count": 43,
   "metadata": {},
   "outputs": [
    {
     "name": "stdout",
     "output_type": "stream",
     "text": [
      "86 8390\n"
     ]
    }
   ],
   "source": [
    "# show the max in matrix\n",
    "def show_max_in_matrix(matrix):\n",
    "    count = 0\n",
    "    sum = 0\n",
    "    for i in range(len(matrix)):\n",
    "        for j in range(len(matrix[0])):\n",
    "            if matrix[i][j] > 160:\n",
    "                count += 1\n",
    "            if matrix[i][j] > 0:\n",
    "                sum += 1\n",
    "    print(count, sum)\n",
    "show_max_in_matrix(distance_matrix)"
   ]
  },
  {
   "cell_type": "code",
   "execution_count": 11,
   "metadata": {},
   "outputs": [],
   "source": [
    "# save the distance matrix\n",
    "distance_matrix = pd.DataFrame(distance_matrix)\n",
    "distance_matrix.to_csv(\"../data/PA/adjancency_matrix.csv\")"
   ]
  },
  {
   "cell_type": "code",
   "execution_count": 5,
   "metadata": {},
   "outputs": [],
   "source": [
    "bike_demand = pd.read_csv('../data/PA/share_bike_CBG/demand2019to2020CBG.csv', index_col=0)"
   ]
  },
  {
   "cell_type": "code",
   "execution_count": 6,
   "metadata": {},
   "outputs": [
    {
     "data": {
      "text/plain": [
       "147"
      ]
     },
     "execution_count": 6,
     "metadata": {},
     "output_type": "execute_result"
    }
   ],
   "source": [
    "bike_demand_region = bike_demand['demand_index'].unique()\n",
    "len(bike_demand_region)"
   ]
  },
  {
   "cell_type": "code",
   "execution_count": 7,
   "metadata": {},
   "outputs": [],
   "source": [
    "poi_embeddings = pd.read_csv('../data/PA/poi_embeddings_CBG.csv')"
   ]
  },
  {
   "cell_type": "code",
   "execution_count": 8,
   "metadata": {},
   "outputs": [
    {
     "data": {
      "text/plain": [
       "986"
      ]
     },
     "execution_count": 8,
     "metadata": {},
     "output_type": "execute_result"
    }
   ],
   "source": [
    "poi_embeddings_region = poi_embeddings['CBGID'].unique()\n",
    "len(poi_embeddings_region)"
   ]
  },
  {
   "cell_type": "code",
   "execution_count": 9,
   "metadata": {},
   "outputs": [
    {
     "name": "stdout",
     "output_type": "stream",
     "text": [
      "136\n"
     ]
    }
   ],
   "source": [
    "# get the same element in poi_embeddings_region and bike_demand_region (they are 2 arrays)\n",
    "Adjacent_ID = []\n",
    "for val in bike_demand_region:\n",
    "    if val in poi_embeddings_region:\n",
    "        Adjacent_ID.append(val)\n",
    "print(len(Adjacent_ID))"
   ]
  },
  {
   "cell_type": "code",
   "execution_count": 10,
   "metadata": {},
   "outputs": [],
   "source": [
    "# save Adjacent_ID\n",
    "filename = \"../data/train/adjacent_id.txt\"\n",
    "with open(filename, \"w\") as file:\n",
    "    for val in Adjacent_ID:\n",
    "        file.write(str(val) + \"\\n\")"
   ]
  },
  {
   "cell_type": "code",
   "execution_count": 11,
   "metadata": {},
   "outputs": [],
   "source": [
    "filename = \"../data/train/adjacent_id.txt\"\n",
    "\n",
    "with open(filename, \"r\") as file:\n",
    "    adjacent_id = [int(line.strip()) for line in file]"
   ]
  },
  {
   "cell_type": "code",
   "execution_count": 12,
   "metadata": {},
   "outputs": [],
   "source": [
    "Adjacency_Matrix = {}\n",
    "for i in Adjacent_ID:\n",
    "    for j in Adjacent_ID:\n",
    "        key = (i, j)\n",
    "        if i == j :\n",
    "            Adjacency_Matrix[key] = 0\n",
    "        else:\n",
    "            dis = dist(CBG.iloc[i], CBG.iloc[j])\n",
    "            if dis < 160:\n",
    "                Adjacency_Matrix[key] = dist(CBG.iloc[i], CBG.iloc[j])\n",
    "            else:\n",
    "                Adjacency_Matrix[key] = np.inf"
   ]
  },
  {
   "cell_type": "code",
   "execution_count": 13,
   "metadata": {},
   "outputs": [],
   "source": [
    "Adjacency_matrix = np.zeros((len(Adjacent_ID),len(Adjacent_ID)))\n",
    "for i in Adjacent_ID:\n",
    "    for j in Adjacent_ID:\n",
    "        i_index = Adjacent_ID.index(i)\n",
    "        j_index = Adjacent_ID.index(j)\n",
    "        if i == j :\n",
    "            Adjacency_matrix[i_index,j_index] = 0\n",
    "        else:\n",
    "            dis = dist(CBG.iloc[i], CBG.iloc[j])\n",
    "            if dis < 160:\n",
    "                Adjacency_matrix[i_index,j_index] = dis\n",
    "            else:\n",
    "                Adjacency_matrix[i_index,j_index] = np.inf"
   ]
  },
  {
   "cell_type": "code",
   "execution_count": 62,
   "metadata": {},
   "outputs": [],
   "source": [
    "# check the Adjacency matrix is fully connected\n",
    "def is_graph_connected(adjacency_matrix, start_node):\n",
    "    visited = set()\n",
    "    dfs(adjacency_matrix, start_node, visited)\n",
    "    return len(visited) == np.sqrt(len(adjacency_matrix))\n",
    "\n",
    "def dfs(adjacency_matrix, node, visited):\n",
    "    visited.add(node)\n",
    "    for neighbor in adjacency_matrix:\n",
    "        if neighbor[0] == node and neighbor[1] not in visited:\n",
    "            dfs(adjacency_matrix, neighbor[1], visited)\n",
    "        elif neighbor[1] == node and neighbor[0] not in visited:\n",
    "            dfs(adjacency_matrix, neighbor[0], visited)"
   ]
  },
  {
   "cell_type": "code",
   "execution_count": 65,
   "metadata": {},
   "outputs": [
    {
     "name": "stdout",
     "output_type": "stream",
     "text": [
      "True\n"
     ]
    }
   ],
   "source": [
    "adjacency_matrix = [(i, j, weight) for (i, j), weight in Adjacency_Matrix.items()]\n",
    "start_node = 10  # 选择一个起始节点\n",
    "is_connected = is_graph_connected(adjacency_matrix, start_node)\n",
    "print(is_connected)"
   ]
  },
  {
   "cell_type": "code",
   "execution_count": null,
   "metadata": {},
   "outputs": [],
   "source": [
    "np.save('../data/train/adj_matrix.npy', Adjacency_matrix)"
   ]
  },
  {
   "cell_type": "code",
   "execution_count": 68,
   "metadata": {},
   "outputs": [],
   "source": [
    "# save the adjacency matrix\n",
    "import pickle\n",
    "with open('../data/train/adj_matrix.pkl', 'wb') as f:\n",
    "    pickle.dump(adjacency_matrix, f)"
   ]
  },
  {
   "cell_type": "markdown",
   "metadata": {},
   "source": [
    "The Graph is fully connected: True"
   ]
  }
 ],
 "metadata": {
  "kernelspec": {
   "display_name": "base",
   "language": "python",
   "name": "python3"
  },
  "language_info": {
   "codemirror_mode": {
    "name": "ipython",
    "version": 3
   },
   "file_extension": ".py",
   "mimetype": "text/x-python",
   "name": "python",
   "nbconvert_exporter": "python",
   "pygments_lexer": "ipython3",
   "version": "3.10.9"
  },
  "orig_nbformat": 4
 },
 "nbformat": 4,
 "nbformat_minor": 2
}
