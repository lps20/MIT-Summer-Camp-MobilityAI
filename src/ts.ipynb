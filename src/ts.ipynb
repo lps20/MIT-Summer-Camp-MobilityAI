{
 "cells": [
  {
   "cell_type": "code",
   "execution_count": 1,
   "metadata": {},
   "outputs": [],
   "source": [
    "import csv\n",
    "from datetime import datetime, timedelta\n",
    "import numpy as np\n",
    "import pandas as pd\n",
    "import pickle\n",
    "import matplotlib.pyplot as plt"
   ]
  },
  {
   "cell_type": "code",
   "execution_count": 2,
   "metadata": {},
   "outputs": [
    {
     "data": {
      "text/plain": [
       "(136, 1, 43823)"
      ]
     },
     "execution_count": 2,
     "metadata": {},
     "output_type": "execute_result"
    }
   ],
   "source": [
    "x = np.load('../data/train/X.npy')\n",
    "x.shape"
   ]
  },
  {
   "cell_type": "code",
   "execution_count": 3,
   "metadata": {},
   "outputs": [],
   "source": [
    "X = np.asarray(x)\n",
    "X = X.reshape(136, 43823)"
   ]
  },
  {
   "cell_type": "code",
   "execution_count": 4,
   "metadata": {},
   "outputs": [],
   "source": [
    "splitline1 = int(x.shape[2]*0.6)\n",
    "splitline2 = int(x.shape[2]*0.8) "
   ]
  },
  {
   "cell_type": "code",
   "execution_count": 9,
   "metadata": {},
   "outputs": [],
   "source": [
    "train = X[:, 0:splitline1]\n",
    "val = X[:, splitline1:splitline2]\n",
    "test = X[:, splitline2:]"
   ]
  },
  {
   "cell_type": "code",
   "execution_count": 40,
   "metadata": {},
   "outputs": [
    {
     "name": "stdout",
     "output_type": "stream",
     "text": [
      "AR model MSE:  2.357655320172975\n",
      "AR model MAE:  0.7907952713551755\n"
     ]
    }
   ],
   "source": [
    "from statsmodels.tsa.ar_model import AutoReg\n",
    "from sklearn.metrics import mean_squared_error \n",
    " \n",
    "def AR_model(train, val):\n",
    "    # Fit AR model \n",
    "    model = AutoReg(train, lags=12)\n",
    "    model_fit = model.fit()\n",
    "   # Make predictions\n",
    "    predictions = model_fit.predict(start=len(train)+1, end=len(train)+ len(val))\n",
    "    val_MSE = mean_squared_error(val, predictions)\n",
    "    val_MAE = np.mean(np.abs(predictions - val))\n",
    "    return val_MSE, val_MAE\n",
    "\n",
    "val_MAE = 0\n",
    "val_MSE = 01\n",
    "for i in range(136):\n",
    "    MSE, MAE = AR_model(train[i,:], val[i,:])\n",
    "    val_MSE += MSE\n",
    "    val_MAE += MAE\n",
    "print(\"AR model MSE: \", val_MSE/136)\n",
    "print(\"AR model MAE: \", val_MAE/136)\n"
   ]
  }
 ],
 "metadata": {
  "kernelspec": {
   "display_name": "base",
   "language": "python",
   "name": "python3"
  },
  "language_info": {
   "codemirror_mode": {
    "name": "ipython",
    "version": 3
   },
   "file_extension": ".py",
   "mimetype": "text/x-python",
   "name": "python",
   "nbconvert_exporter": "python",
   "pygments_lexer": "ipython3",
   "version": "3.10.9"
  },
  "orig_nbformat": 4
 },
 "nbformat": 4,
 "nbformat_minor": 2
}
